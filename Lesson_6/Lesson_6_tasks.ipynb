{
 "cells": [
  {
   "cell_type": "markdown",
   "id": "b1d33147-3400-4b3a-8990-0eff52eb024c",
   "metadata": {},
   "source": [
    "### Практическое задание к уроку 6 по теме “Элементы теории вероятностей”."
   ]
  },
  {
   "cell_type": "markdown",
   "id": "2fa0316c-0d26-458a-9a9a-375f82a7dcee",
   "metadata": {},
   "source": [
    "#### Задание 1.  \n",
    "*Найти вероятность выпадения 2 или 5 очков при подбрасывании игральной кости,  \n",
    "на гранях которой имеются соответственно 1,2,3,4,5 и 6 очков.*"
   ]
  },
  {
   "cell_type": "markdown",
   "id": "ac6859e5-3834-4cc1-b8af-e114a006307b",
   "metadata": {},
   "source": [
    "Вероятность выпадения каждой грани на кубике равна 1/6.  \n",
    "Так как нас устраивает два исхода (выпадение 2 или 5), и  \n",
    "эти события несовместны, то сложим их вероятности:"
   ]
  },
  {
   "cell_type": "code",
   "execution_count": 1,
   "id": "da75cf64-5ba7-4689-8fa8-6e367fb8ce3c",
   "metadata": {},
   "outputs": [
    {
     "data": {
      "text/plain": [
       "0.3333333333333333"
      ]
     },
     "execution_count": 1,
     "metadata": {},
     "output_type": "execute_result"
    }
   ],
   "source": [
    "answer_1 = 1/6 + 1/6\n",
    "answer_1"
   ]
  },
  {
   "cell_type": "markdown",
   "id": "49628731-a783-49e0-994a-604d94bf2a8c",
   "metadata": {},
   "source": [
    "Или 1/3."
   ]
  },
  {
   "cell_type": "markdown",
   "id": "47449389-0905-43e8-a797-3f9b5c1cb4dc",
   "metadata": {},
   "source": [
    "#### Задание 2.\n",
    "*Найти вероятность того, что при двух подбрасываниях той же  \n",
    "самой игральной кости сначала выпадет 2, а затем 5.*"
   ]
  },
  {
   "cell_type": "markdown",
   "id": "d620305f-d9d2-4821-88a5-b40ddd2b6e6a",
   "metadata": {},
   "source": [
    "Здесь нам нужно найти вероятность того, что одновременно произойдут два  \n",
    "независимых элементарных события. Вероятность каждого из них в отдельности - 1/6.  \n",
    "При независимых событиях мы можем просто перемножить их вероятности:"
   ]
  },
  {
   "cell_type": "code",
   "execution_count": 2,
   "id": "8c25be16-de90-4019-aeb4-a3540c22d0a4",
   "metadata": {},
   "outputs": [
    {
     "data": {
      "text/plain": [
       "0.027777777777777776"
      ]
     },
     "execution_count": 2,
     "metadata": {},
     "output_type": "execute_result"
    }
   ],
   "source": [
    "answer_2 = 1/6 * 1/6\n",
    "answer_2"
   ]
  },
  {
   "cell_type": "markdown",
   "id": "5288d3ea-112d-4d43-858a-a407bfc72d87",
   "metadata": {},
   "source": [
    "Или 1/36."
   ]
  },
  {
   "cell_type": "markdown",
   "id": "b7f8d8f0-3180-4159-9d8b-d7e3db5780ad",
   "metadata": {},
   "source": [
    "#### Задание 3.\n",
    "*Найти вероятность выпадения 2 и 5 очков при двух подбрасываниях той  \n",
    "же самой игральной кости. Обратите внимание на порядок выпадения костей!*"
   ]
  },
  {
   "cell_type": "markdown",
   "id": "e5f605b4-9336-41ca-9462-6c03970680cb",
   "metadata": {},
   "source": [
    "Задача похожа на предыдущую, за исключением того, что при первом  \n",
    "броске кубика нас устраивает выпадение как 2, так и 5. Эту вероятность  \n",
    "мы посчитали в задании № 1 - она равна 1/3. При втором броске кубика нас  \n",
    "устраивает только один исход (2, если первым выпало 5, и 5, если выпало 2).  \n",
    "Перемножаем эти вероятности:"
   ]
  },
  {
   "cell_type": "code",
   "execution_count": 3,
   "id": "75a1e248-317a-46bd-a563-43341a795ec2",
   "metadata": {},
   "outputs": [
    {
     "data": {
      "text/plain": [
       "0.05555555555555555"
      ]
     },
     "execution_count": 3,
     "metadata": {},
     "output_type": "execute_result"
    }
   ],
   "source": [
    "answer_3 = 1/3 * 1/6\n",
    "answer_3"
   ]
  },
  {
   "cell_type": "markdown",
   "id": "ed2b4d38-f039-453d-ad23-2298ce71f72a",
   "metadata": {},
   "source": [
    "Или 1/18."
   ]
  },
  {
   "cell_type": "markdown",
   "id": "8c7b6c37-6f99-4634-8ba6-1fee7996c279",
   "metadata": {},
   "source": [
    "#### Задание 4.  \n",
    "*На отрезке AB длиной 20 см наугад отметили точку C. Какова вероятность,  \n",
    "что она находится на расстоянии не более 9 см от точки А и не более 15 см от точки В?*"
   ]
  },
  {
   "cell_type": "markdown",
   "id": "e3df4089-4c9b-496c-b365-a75357eb18ab",
   "metadata": {},
   "source": [
    "Отметим на отрезке AB точку D, удаленную от точки B на 15 см, и  \n",
    "точку F, удаленную от точки A на 9 см. Тогда точка D будет удалена  \n",
    "от точки А на 20-15=5 см. Получается, что точка С должна попасть в  \n",
    "отрезок DF, длина которого равна 9-5=4 см. Для наглядности изобразим  \n",
    "эти отрезки на графике."
   ]
  },
  {
   "cell_type": "code",
   "execution_count": 4,
   "id": "0e279af0-a9a0-4889-8c01-a0e9c0ce39e0",
   "metadata": {
    "jupyter": {
     "source_hidden": true
    },
    "tags": []
   },
   "outputs": [],
   "source": [
    "%matplotlib inline\n",
    "\n",
    "import matplotlib.pyplot as plt\n",
    "import numpy as np"
   ]
  },
  {
   "cell_type": "code",
   "execution_count": 5,
   "id": "7c4ae2a6-8b4a-471e-bd09-c12c8bbb1418",
   "metadata": {
    "tags": []
   },
   "outputs": [
    {
     "data": {
      "image/png": "[encoded data removed]",
      "text/plain": [
       "<Figure size 432x288 with 1 Axes>"
      ]
     },
     "metadata": {
      "needs_background": "light"
     },
     "output_type": "display_data"
    }
   ],
   "source": [
    "x = (0, 5, 9, 20)\n",
    "y = np.zeros(len(x))\n",
    "annots = ('A\\n0', 'D\\n5', 'F\\n9', 'B\\n20')\n",
    "annots = (_ for _ in annots)\n",
    "\n",
    "plt.plot(x, y, marker='|', ms=15)\n",
    "plt.axis('off')\n",
    "\n",
    "for i, j in zip(x, y):\n",
    "    corr_x = 0.18\n",
    "    corr_y = 0.015\n",
    "    plt.annotate(next(annots), xy=(i-corr_x, j-corr_y))\n",
    "\n",
    "plt.show()"
   ]
  },
  {
   "cell_type": "markdown",
   "id": "26564233-d3d4-4c86-a6f6-24a52d8b9230",
   "metadata": {},
   "source": [
    "Таким образом, для решения задачи нам нужно разделить  \n",
    "длину отрезка DF на длину отрезка AB:  \n",
    "DF/AB = 4/20 = 1/5.  \n",
    "<u>Ответ:</u> 1/5."
   ]
  },
  {
   "cell_type": "markdown",
   "id": "251323b5-2d81-45b8-8a9b-96b03093ae4c",
   "metadata": {},
   "source": [
    "#### Задание 5.  \n",
    "*Телефонный номер состоит из 7 цифр. Какова вероятность, \n",
    "что это номер 8882227?*"
   ]
  },
  {
   "cell_type": "markdown",
   "id": "83a9ad57-e874-47bf-848d-5311a459140b",
   "metadata": {},
   "source": [
    "Всего вариантов телефонных номеров из 7 цифр: 10^7,  \n",
    "т.к. каждая цифра может принимать 10 значений (от 0 до 9).  \n",
    "Нас устраивает 1 возможный вариант из всех. Поэтому вероятность  \n",
    "будет равна:"
   ]
  },
  {
   "cell_type": "code",
   "execution_count": 6,
   "id": "743429b7-a0b5-4a69-8143-18a9e6baf790",
   "metadata": {},
   "outputs": [
    {
     "data": {
      "text/plain": [
       "1e-07"
      ]
     },
     "execution_count": 6,
     "metadata": {},
     "output_type": "execute_result"
    }
   ],
   "source": [
    "answer_5 = 1/10**7\n",
    "answer_5"
   ]
  },
  {
   "cell_type": "markdown",
   "id": "54807e8c-be26-45c6-b270-fb47ac4bde3d",
   "metadata": {},
   "source": [
    "Или 1/10000000."
   ]
  },
  {
   "cell_type": "markdown",
   "id": "ea2bbddb-23af-4cbd-9937-4b0ca1f3b35b",
   "metadata": {},
   "source": [
    "#### Задание 6.  \n",
    "*Набирая номер телефона, абонент забыл 2 последние цифры, и,  \n",
    "помня только то, что эти цифры различны и среди них нет нуля,  \n",
    "стал набирать их наудачу. Сколько вариантов ему надо перебрать,  \n",
    "чтобы наверняка найти нужный номер? Какова вероятность того,  \n",
    "что он угадает номер с первого раза?*"
   ]
  },
  {
   "cell_type": "markdown",
   "id": "63ab4929-361b-4be6-8ae3-37936b0355c1",
   "metadata": {},
   "source": [
    "Изначально у нас 100 вариантов последних двух цифр.  \n",
    "Вычитаем отсюда все варианты с одинаковыми цифрами.  \n",
    "Их 10 (00, 11, 22,...). Далее вычитаем все варианты  \n",
    "с нулями. Их 18 (01, 02, 03,..., 10, 20, 30,...).  \n",
    "00 мы уже вычли ранее, поэтому сюда не включаем.  \n",
    "Тогда общее количество устраивающих нас вариантов - (100-10-18=72).  \n",
    "Получается, что абоненту нужно перебрать 71 вариант, чтобы  \n",
    "наверняка найти нужный номер, ведь ему не нужно перебирать 72-ой  \n",
    "вариант, если 71 раз он не угадал.  \n",
    "Вероятность угадать номер с первого раза равна 1/72.  \n",
    "<u>Ответ:</u> 71, 1/72."
   ]
  },
  {
   "cell_type": "markdown",
   "id": "c193c5d3-646a-463f-8d45-d5b7bdd7b151",
   "metadata": {},
   "source": [
    "#### Задание 7**.  \n",
    "*Чёрный куб покрасили снаружи белой краской, затем разрезали на   \n",
    "27 одинаковых маленьких кубиков и как попало сложили из них большой куб.  \n",
    "С какой вероятностью  все грани этого куба будут белыми?*"
   ]
  },
  {
   "cell_type": "markdown",
   "id": "d97b6955-d52f-4060-a3c7-01ff679b58ca",
   "metadata": {},
   "source": [
    "27 кубиков дают нам куб размером 3х3х3. Посмотрим, из  \n",
    "каких кубиков он состоит:  \n",
    "- 8 угловых кубиков с тремя белыми гранями;  \n",
    "- 12 кубиков с двумя белыми гранями которые находятся между угловых;  \n",
    "- 6 центральных кубиков в каждой грани куба, одна белая грань;  \n",
    "- 1 центральный кубик - центр куба, чёрный.  \n",
    "\n",
    "Шанс, что каждый кубик встанет нужной нам стороной - 1/6.  \n",
    "За исключением центрального чёрного кубика: он может встать  \n",
    "любой стороной."
   ]
  },
  {
   "cell_type": "markdown",
   "id": "adbf49f0-e366-4205-be53-6bf9307a1b70",
   "metadata": {},
   "source": [
    "Найдём вероятности правильно собрать три ряда куба по отдельности,  \n",
    "т.е. квадраты 3х3 кубиков."
   ]
  },
  {
   "cell_type": "markdown",
   "id": "31bf70fc-b767-4ea9-b6b8-4c848eeb6b5f",
   "metadata": {},
   "source": [
    "В первом ряду находятся 4 угловых кубика с тремя белыми гранями,  \n",
    "4 кубика с двумя и 1 кубик с одной белой гранью."
   ]
  },
  {
   "cell_type": "code",
   "execution_count": 7,
   "id": "de609fe3-bef8-43da-9fd9-f78664b4ef2c",
   "metadata": {},
   "outputs": [
    {
     "data": {
      "text/plain": [
       "6.986729810070141e-12"
      ]
     },
     "execution_count": 7,
     "metadata": {},
     "output_type": "execute_result"
    }
   ],
   "source": [
    "row_1 = (8/27 * 7/26 * 6/25 * 5/24 * 12/23 * 11/22 * 10/21 * 9/20 * 6/19) * (1/6)**9\n",
    "row_1"
   ]
  },
  {
   "cell_type": "markdown",
   "id": "88744d3d-2d5e-432c-99c2-8f6e31b0b7c3",
   "metadata": {},
   "source": [
    "Во втором ряду 4 кубика с двумя белыми гранями,  \n",
    "4 кубика с одной белой гранью и один чёрный кубик."
   ]
  },
  {
   "cell_type": "code",
   "execution_count": 8,
   "id": "913c56b6-0c64-4487-821f-974da95790aa",
   "metadata": {},
   "outputs": [
    {
     "data": {
      "text/plain": [
       "6.8030323685397744e-12"
      ]
     },
     "execution_count": 8,
     "metadata": {},
     "output_type": "execute_result"
    }
   ],
   "source": [
    "row_2 = (8/18 * 7/17 * 6/16 * 5/15 * 5/14 * 4/13 * 3/12 * 2/11 * 1/10) * (1/6)**8\n",
    "row_2"
   ]
  },
  {
   "cell_type": "markdown",
   "id": "76677933-2e02-4c55-a99a-5c24b0fe8fa2",
   "metadata": {},
   "source": [
    "Третий ряд аналогичен первому по составу."
   ]
  },
  {
   "cell_type": "code",
   "execution_count": 9,
   "id": "1d446828-9f9c-4562-afae-021c3275eb52",
   "metadata": {},
   "outputs": [
    {
     "data": {
      "text/plain": [
       "1.575063970278114e-10"
      ]
     },
     "execution_count": 9,
     "metadata": {},
     "output_type": "execute_result"
    }
   ],
   "source": [
    "row_3 = (4/9 * 3/8 * 2/7 * 1/6 * 1/5 * 4/4 * 3/3 * 2/2 * 1/1) * (1/6)**9\n",
    "row_3"
   ]
  },
  {
   "cell_type": "markdown",
   "id": "b40c72ec-30d1-46c8-9017-af72063fd391",
   "metadata": {},
   "source": [
    "Далее перемножим эти вероятности, т.к. события независимы:"
   ]
  },
  {
   "cell_type": "code",
   "execution_count": 10,
   "id": "c2d4a0a4-a4ad-4a8f-8141-f89177dba5fd",
   "metadata": {},
   "outputs": [
    {
     "data": {
      "text/plain": [
       "7.486428531886418e-33"
      ]
     },
     "execution_count": 10,
     "metadata": {},
     "output_type": "execute_result"
    }
   ],
   "source": [
    "answer_7 = row_1 * row_2 * row_3\n",
    "answer_7"
   ]
  },
  {
   "cell_type": "markdown",
   "id": "8eb84f7d-4e53-4e97-ae9e-3b52af671e9a",
   "metadata": {},
   "source": [
    "Это и будет нашим ответом."
   ]
  }
 ],
 "metadata": {
  "kernelspec": {
   "display_name": "Python 3 (ipykernel)",
   "language": "python",
   "name": "python3"
  },
  "language_info": {
   "codemirror_mode": {
    "name": "ipython",
    "version": 3
   },
   "file_extension": ".py",
   "mimetype": "text/x-python",
   "name": "python",
   "nbconvert_exporter": "python",
   "pygments_lexer": "ipython3",
   "version": "3.9.7"
  }
 },
 "nbformat": 4,
 "nbformat_minor": 5
}
