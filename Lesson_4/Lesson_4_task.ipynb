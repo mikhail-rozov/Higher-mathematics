{
 "cells": [
  {
   "cell_type": "markdown",
   "id": "ab803438-8382-4b4f-9a2e-d6420b81d0c6",
   "metadata": {},
   "source": [
    "#### Задание по теме “Аналитическая геометрия” и “Графики на плоскости”.\n",
    "*Решите аналитически и потом численно (в программе) уравнение, зависящее от параметра а:  \n",
    "sin(а\\*x)=0  \n",
    "при условии: 0.01<a<0.02, 100<х<500.  \n",
    "Т.е. надо найти решение х как функцию параметра а - построить график x=x(а).  \n",
    "Если численным методом не получается найти все ветви решения x(а), то отыщите хотя бы одну.*"
   ]
  },
  {
   "cell_type": "code",
   "execution_count": 1,
   "id": "4d6ad43a-344e-48ed-b8f5-4985819bbc66",
   "metadata": {},
   "outputs": [],
   "source": [
    "%matplotlib inline\n",
    "# %config InlineBackend.figure_format='svg'\n",
    "\n",
    "import numpy as np\n",
    "import matplotlib.pyplot as plt"
   ]
  },
  {
   "cell_type": "markdown",
   "id": "1cedd357-2e75-46d9-995d-7a2e42276fdb",
   "metadata": {},
   "source": [
    "sin(а\\*x)=0, тогда x = π\\*n/a,  \n",
    "n = x\\*a/π,  \n",
    "n - целое число"
   ]
  },
  {
   "cell_type": "code",
   "execution_count": 2,
   "id": "5e2b6faa-e3f1-43c9-abae-c1caa948fded",
   "metadata": {},
   "outputs": [],
   "source": [
    "x_min = 100\n",
    "a_min = 0.01\n",
    "n_min = x_min * a_min / np.pi\n",
    "\n",
    "x_max = 500\n",
    "a_max = 0.02\n",
    "n_max = x_max * a_max / np.pi"
   ]
  },
  {
   "cell_type": "code",
   "execution_count": 3,
   "id": "d090629f-03ae-437b-a015-c18a29c1ebfc",
   "metadata": {},
   "outputs": [
    {
     "data": {
      "text/plain": [
       "(0.3183098861837907, 3.183098861837907)"
      ]
     },
     "execution_count": 3,
     "metadata": {},
     "output_type": "execute_result"
    }
   ],
   "source": [
    "(n_min, n_max)"
   ]
  },
  {
   "cell_type": "markdown",
   "id": "35b9ee3c-f572-4a09-a97e-1e1a7e4c704a",
   "metadata": {},
   "source": [
    "т.к n - целое число, то оно принимает только значения n=(1, 2, 3)"
   ]
  },
  {
   "cell_type": "code",
   "execution_count": 4,
   "id": "a2ab6590-d3f4-4e89-9855-a72bed251a89",
   "metadata": {},
   "outputs": [
    {
     "data": {
      "image/png": "[encoded data removed]",
      "text/plain": [
       "<Figure size 432x288 with 1 Axes>"
      ]
     },
     "metadata": {
      "needs_background": "light"
     },
     "output_type": "display_data"
    }
   ],
   "source": [
    "n = (1, 2, 3)\n",
    "\n",
    "for i in n:\n",
    "    \n",
    "    x = []\n",
    "    a = []\n",
    "    \n",
    "    for j in np.linspace(0.01, 0.02, 200):\n",
    "        result = np.pi * i / j\n",
    "        if result < 500:\n",
    "            x.append(result)\n",
    "            a.append(j)\n",
    "        \n",
    "    plt.plot(a, x)\n",
    "\n",
    "plt.xlabel('a')\n",
    "plt.ylabel('x')\n",
    "plt.grid()\n",
    "\n",
    "plt.show()"
   ]
  },
  {
   "cell_type": "markdown",
   "id": "bd876ab1-dbc3-4419-b4d1-318bdee11640",
   "metadata": {},
   "source": [
    "На графике выше расположено множество решений данного уравнения  \n",
    "при заданных условиях."
   ]
  }
 ],
 "metadata": {
  "kernelspec": {
   "display_name": "Python 3 (ipykernel)",
   "language": "python",
   "name": "python3"
  },
  "language_info": {
   "codemirror_mode": {
    "name": "ipython",
    "version": 3
   },
   "file_extension": ".py",
   "mimetype": "text/x-python",
   "name": "python",
   "nbconvert_exporter": "python",
   "pygments_lexer": "ipython3",
   "version": "3.9.7"
  }
 },
 "nbformat": 4,
 "nbformat_minor": 5
}
