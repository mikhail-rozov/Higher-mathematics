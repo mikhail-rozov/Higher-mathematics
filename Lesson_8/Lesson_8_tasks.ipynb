{
 "cells": [
  {
   "cell_type": "markdown",
   "id": "9f1aebef-990d-48dc-b2e7-8c95198b7867",
   "metadata": {},
   "source": [
    "### Практическое задание по теме \"Системы линейных алгебраических уравнений\"."
   ]
  },
  {
   "cell_type": "markdown",
   "id": "ba57c582-aa91-469d-8109-a9c8949e55ca",
   "metadata": {},
   "source": [
    "#### Задание 1.  \n",
    "*Решите линейную систему:*  \n",
    "<br>\n",
    "<img src=\"https://latex.codecogs.com/gif.latex?\\begin{bmatrix}&space;1&space;&&space;2&space;&&space;3\\\\&space;4&space;&&space;0&space;&&space;6\\\\&space;7&space;&&space;8&space;&&space;9&space;\\end{bmatrix}&space;\\cdot&space;X&space;=&space;\\begin{bmatrix}12\\\\2\\\\1&space;\\end{bmatrix}\" title=\"\\begin{bmatrix} 1 & 2 & 3\\\\ 4 & 0 & 6\\\\ 7 & 8 & 9 \\end{bmatrix} \\cdot X = \\begin{bmatrix}12\\\\2\\\\1 \\end{bmatrix}\" />"
   ]
  },
  {
   "cell_type": "code",
   "execution_count": 1,
   "id": "6d0b2c70-b87d-437f-be21-dc896d634b05",
   "metadata": {},
   "outputs": [],
   "source": [
    "import numpy as np"
   ]
  },
  {
   "cell_type": "code",
   "execution_count": 2,
   "id": "2e61019c-bc22-4ce0-87e0-19ebfee82dfd",
   "metadata": {},
   "outputs": [],
   "source": [
    "A = np.array([[1, 2, 3],\n",
    "              [4, 0, 6],\n",
    "              [7, 8, 9]])\n",
    "B = np.array([12, 2, 1])"
   ]
  },
  {
   "cell_type": "markdown",
   "id": "0e4abaa1-2396-4cf7-b992-64c28b3d6b55",
   "metadata": {},
   "source": [
    "Ответ:"
   ]
  },
  {
   "cell_type": "code",
   "execution_count": 3,
   "id": "ff6440ec-c3e4-4908-9ded-49bddfffb149",
   "metadata": {},
   "outputs": [
    {
     "data": {
      "text/plain": [
       "array([-9.2       ,  0.9       ,  6.46666667])"
      ]
     },
     "execution_count": 3,
     "metadata": {},
     "output_type": "execute_result"
    }
   ],
   "source": [
    "np.linalg.solve(A, B)"
   ]
  },
  {
   "cell_type": "markdown",
   "id": "9cde8ca9-6573-49c1-87b6-df22f7459732",
   "metadata": {},
   "source": [
    "#### Задание 2.  \n",
    "*Найдите псевдорешение:  \n",
    "x + 2y - z = 1  \n",
    "3x - 4y = 7  \n",
    "8x - 5y + 2z = 12  \n",
    "2x - 5z = 7  \n",
    "11x + 4y - 7z = 15*"
   ]
  },
  {
   "cell_type": "code",
   "execution_count": 4,
   "id": "d408f441-662b-4fda-805e-8d5addfe68be",
   "metadata": {},
   "outputs": [],
   "source": [
    "A = np.array([[1, 2, -1], \n",
    "              [3, -4, 0],\n",
    "              [8, -5, 2],\n",
    "              [2, 0, -5],\n",
    "              [11, 4, -7]])\n",
    "B = np.array([1, 7, 12, 7, 15])"
   ]
  },
  {
   "cell_type": "markdown",
   "id": "c53f6909-2864-43b4-9632-acd7b64aa850",
   "metadata": {},
   "source": [
    "Ответ:"
   ]
  },
  {
   "cell_type": "code",
   "execution_count": 5,
   "id": "4072a149-499d-4c5f-a632-3e88558c9d04",
   "metadata": {},
   "outputs": [
    {
     "data": {
      "text/plain": [
       "array([ 1.13919353, -0.90498444, -0.9009803 ])"
      ]
     },
     "execution_count": 5,
     "metadata": {},
     "output_type": "execute_result"
    }
   ],
   "source": [
    "np.linalg.lstsq(A, B, rcond=None)[0]"
   ]
  },
  {
   "cell_type": "markdown",
   "id": "9cc78f79-6efa-41b2-8ac8-ae389a529097",
   "metadata": {},
   "source": [
    "#### Задание 3.  \n",
    "*Сколько решений имеет линейная система:*  \n",
    "<br>\n",
    "<img src=\"https://latex.codecogs.com/gif.latex?\\begin{bmatrix}&space;1&space;&&space;2&space;&&space;3\\\\&space;4&space;&&space;5&space;&&space;6\\\\&space;7&space;&&space;8&space;&&space;9&space;\\end{bmatrix}&space;\\cdot&space;X&space;=&space;\\begin{bmatrix}12\\\\2\\\\1&space;\\end{bmatrix}\" title=\"\\begin{bmatrix} 1 & 2 & 3\\\\ 4 & 5 & 6\\\\ 7 & 8 & 9 \\end{bmatrix} \\cdot X = \\begin{bmatrix}12\\\\2\\\\1 \\end{bmatrix}\" />  \n",
    "<br>\n",
    "*Если ноль – то измените вектор правой части так, чтобы система стала совместной, и решите ее.*"
   ]
  },
  {
   "cell_type": "code",
   "execution_count": 6,
   "id": "aebb8cdc-274b-4777-afc5-db45ddc99f53",
   "metadata": {},
   "outputs": [],
   "source": [
    "A = np.array([[1, 2, 3],\n",
    "              [4, 5, 6],\n",
    "              [7, 8, 9]])\n",
    "B = np.array([[12, 2, 1]])"
   ]
  },
  {
   "cell_type": "markdown",
   "id": "0f94ecba-8ff9-414b-8f04-29bac23e5c07",
   "metadata": {},
   "source": [
    "Обозначим расширенную матрицу С:"
   ]
  },
  {
   "cell_type": "code",
   "execution_count": 7,
   "id": "30ee2343-529f-4b6b-a0ec-aeaee97d08b5",
   "metadata": {},
   "outputs": [
    {
     "data": {
      "text/plain": [
       "array([[ 1,  2,  3, 12],\n",
       "       [ 4,  5,  6,  2],\n",
       "       [ 7,  8,  9,  1]])"
      ]
     },
     "execution_count": 7,
     "metadata": {},
     "output_type": "execute_result"
    }
   ],
   "source": [
    "C = np.concatenate((A, B.T), axis=1)\n",
    "C"
   ]
  },
  {
   "cell_type": "markdown",
   "id": "43e4d5dd-0303-440b-9661-91f15b00780a",
   "metadata": {},
   "source": [
    "Вычислим ранги исходной и расширенной матриц:"
   ]
  },
  {
   "cell_type": "code",
   "execution_count": 8,
   "id": "dbd79e45-98b5-42b0-9a54-4d6e9dc6b0a1",
   "metadata": {},
   "outputs": [
    {
     "data": {
      "text/plain": [
       "(2, 3)"
      ]
     },
     "execution_count": 8,
     "metadata": {},
     "output_type": "execute_result"
    }
   ],
   "source": [
    "np.linalg.matrix_rank(A), np.linalg.matrix_rank(C)"
   ]
  },
  {
   "cell_type": "markdown",
   "id": "96a540dd-d7cb-430f-b242-0cb27e078d13",
   "metadata": {},
   "source": [
    "Так как ранг расширенной матрицы больше, чем ранг исходной матрицы,  \n",
    "то линейная система не имеет точных решений.  \n",
    "Данная система не будет иметь единственного решения даже при  \n",
    "изменении вектора правой части, т.к. ранг исходной матрицы  \n",
    "останется равным 2, а это меньше числа неизвестных.  \n",
    "Но мы можем сделать так, чтобы система стала иметь  \n",
    "бесконечное множество решений. Для этого изменим вектор  \n",
    "правой части. Например, так:"
   ]
  },
  {
   "cell_type": "code",
   "execution_count": 9,
   "id": "18cf55ee-b665-49e9-87a6-03e1bac92e8f",
   "metadata": {},
   "outputs": [],
   "source": [
    "B = np.array([[1, 2, 3]])"
   ]
  },
  {
   "cell_type": "markdown",
   "id": "899af80b-3814-42c6-a63d-8ba1cb4a1126",
   "metadata": {},
   "source": [
    "Теперь снова посчитаем ранги матриц:"
   ]
  },
  {
   "cell_type": "code",
   "execution_count": 10,
   "id": "72e0c996-8a43-4971-a791-acff1859f079",
   "metadata": {},
   "outputs": [
    {
     "data": {
      "text/plain": [
       "(2, 2)"
      ]
     },
     "execution_count": 10,
     "metadata": {},
     "output_type": "execute_result"
    }
   ],
   "source": [
    "C = np.concatenate((A, B.T), axis=1)\n",
    "np.linalg.matrix_rank(A), np.linalg.matrix_rank(C)"
   ]
  },
  {
   "cell_type": "markdown",
   "id": "9cc1cc80-a899-4ce8-8416-31eb44719b79",
   "metadata": {},
   "source": [
    "Теперь система совместна, из множества решений найдём одно,  \n",
    "ближайшее к нулевому вектору:"
   ]
  },
  {
   "cell_type": "code",
   "execution_count": 11,
   "id": "d7aacb05-b079-4524-8690-a6845ae55498",
   "metadata": {},
   "outputs": [
    {
     "data": {
      "text/plain": [
       "array([-0.05555556,  0.11111111,  0.27777778])"
      ]
     },
     "execution_count": 11,
     "metadata": {},
     "output_type": "execute_result"
    }
   ],
   "source": [
    "B = B[0]\n",
    "np.linalg.lstsq(A, B, rcond=None)[0]"
   ]
  },
  {
   "cell_type": "markdown",
   "id": "943f3881-240e-4e4c-a3a8-ff8aba1e2dd3",
   "metadata": {},
   "source": [
    "#### Задание 4.  \n",
    "*Вычислите LU-разложение матрицы:*  \n",
    "<br>\n",
    "<img src=\"https://latex.codecogs.com/gif.latex?\\begin{bmatrix}&space;1&space;&&space;2&space;&&space;3\\\\&space;2&space;&&space;16&space;&&space;21\\\\&space;4&space;&&space;28&space;&&space;73&space;\\end{bmatrix}\" title=\"\\begin{bmatrix} 1 & 2 & 3\\\\ 2 & 16 & 21\\\\ 4 & 28 & 73 \\end{bmatrix}\" />"
   ]
  },
  {
   "cell_type": "code",
   "execution_count": 12,
   "id": "44db9c81-f507-446d-8151-a9351153524b",
   "metadata": {},
   "outputs": [],
   "source": [
    "from scipy.linalg import lu"
   ]
  },
  {
   "cell_type": "code",
   "execution_count": 13,
   "id": "0d4c692a-4b89-419b-ac30-9556fd72fb14",
   "metadata": {},
   "outputs": [],
   "source": [
    "A = np.array([[1, 2, 3],\n",
    "              [2, 16, 21],\n",
    "              [4, 28, 73]])"
   ]
  },
  {
   "cell_type": "code",
   "execution_count": 14,
   "id": "de444c18-f781-4347-bee3-1b323691eea2",
   "metadata": {},
   "outputs": [
    {
     "name": "stdout",
     "output_type": "stream",
     "text": [
      "[[ 0.25  1.    0.  ]\n",
      " [ 0.5  -0.4   1.  ]\n",
      " [ 1.    0.    0.  ]]\n",
      "[[  4.    28.    73.  ]\n",
      " [  0.    -5.   -15.25]\n",
      " [  0.     0.   -21.6 ]]\n"
     ]
    }
   ],
   "source": [
    "L, U = lu(A, permute_l=True)\n",
    "\n",
    "print(L)\n",
    "print(U)"
   ]
  },
  {
   "cell_type": "markdown",
   "id": "e25af1dc-c7d1-4949-94d9-64de8a7c1716",
   "metadata": {},
   "source": [
    "Проверим правильность разложения:"
   ]
  },
  {
   "cell_type": "code",
   "execution_count": 15,
   "id": "e00f414a-fc8c-4449-9751-3b2fe6ee55aa",
   "metadata": {},
   "outputs": [
    {
     "data": {
      "text/plain": [
       "True"
      ]
     },
     "execution_count": 15,
     "metadata": {},
     "output_type": "execute_result"
    }
   ],
   "source": [
    "np.all(A == np.dot(L, U))"
   ]
  },
  {
   "cell_type": "markdown",
   "id": "efd9c1cd-5f89-4854-b037-fc23b01ad21c",
   "metadata": {},
   "source": [
    "Тогда итоговое разложение будет иметь вид:  \n",
    "<br>\n",
    "<img src=\"https://latex.codecogs.com/gif.latex?\\begin{bmatrix}&space;1&space;&&space;2&space;&&space;3\\\\&space;2&space;&&space;16&space;&&space;21\\\\&space;4&space;&&space;28&space;&&space;73&space;\\end{bmatrix}&space;=&space;\\begin{bmatrix}&space;0,25&space;&&space;1&space;&&space;0\\\\&space;0,5&space;&&space;-0,4&space;&&space;1\\\\&space;1&space;&&space;0&space;&&space;0&space;\\end{bmatrix}&space;\\cdot&space;\\begin{bmatrix}&space;4&space;&&space;28&space;&&space;73\\\\&space;0&space;&&space;-5&space;&&space;-15,25\\\\&space;0&space;&&space;0&space;&&space;-21,6&space;\\end{bmatrix}\" title=\"\\begin{bmatrix} 1 & 2 & 3\\\\ 2 & 16 & 21\\\\ 4 & 28 & 73 \\end{bmatrix} = \\begin{bmatrix} 0,25 & 1 & 0\\\\ 0,5 & -0,4 & 1\\\\ 1 & 0 & 0 \\end{bmatrix} \\cdot \\begin{bmatrix} 4 & 28 & 73\\\\ 0 & -5 & -15,25\\\\ 0 & 0 & -21,6 \\end{bmatrix}\" />"
   ]
  },
  {
   "cell_type": "markdown",
   "id": "724f9837-dd4f-4794-b13f-604f2f743ee2",
   "metadata": {},
   "source": [
    "#### Задание 5.  \n",
    "*Найдите нормальное псевдорешение недоопределенной системы:  \n",
    "x + 2y - z = 1  \n",
    "8x - 5y + 2z = 12  \n",
    "Для этого определите функцию Q(x,y,z), равную норме решения, и найдите ее минимум.* "
   ]
  },
  {
   "cell_type": "markdown",
   "id": "77570d05-c1d3-48a3-a584-36de8905490a",
   "metadata": {},
   "source": [
    "Решением этой системы является прямая, по которой  \n",
    "пересекаются две заданные плоскости. Для того,  \n",
    "чтобы найти её уравнение, выразим z из первого  \n",
    "уравнения и подставим во второе."
   ]
  },
  {
   "cell_type": "markdown",
   "id": "69ad3601-36a6-4526-b9b5-88f0e7682261",
   "metadata": {},
   "source": [
    "z = x + 2y - 1"
   ]
  },
  {
   "cell_type": "markdown",
   "id": "534a1c3c-cce6-4a57-873a-6eb6c5807e39",
   "metadata": {},
   "source": [
    "8x - 5y + 2(x + 2y - 1) = 12  \n",
    "8x - 5y + 2x + 4y - 2 = 12  \n",
    "10x - y - 2 = 12  \n",
    "y = 10x - 14"
   ]
  },
  {
   "cell_type": "markdown",
   "id": "58edb2f8-1779-4f37-a458-df5c43534498",
   "metadata": {},
   "source": [
    "Определим функцию для нормы решения:  "
   ]
  },
  {
   "cell_type": "code",
   "execution_count": 16,
   "id": "80772807-c8d8-4c55-ae3e-53c2efa8554b",
   "metadata": {},
   "outputs": [],
   "source": [
    "def Q(x, y):\n",
    "    return x**2 + y**2"
   ]
  },
  {
   "cell_type": "code",
   "execution_count": 17,
   "id": "cfea1908-0292-4d69-9fef-06af325b1193",
   "metadata": {},
   "outputs": [],
   "source": [
    "%matplotlib inline\n",
    "import matplotlib.pyplot as plt"
   ]
  },
  {
   "cell_type": "code",
   "execution_count": 18,
   "id": "fe428210-cfcc-470b-b1b6-36c1e0249220",
   "metadata": {},
   "outputs": [
    {
     "data": {
      "image/png": "[encoded data removed]",
      "text/plain": [
       "<Figure size 432x288 with 1 Axes>"
      ]
     },
     "metadata": {
      "needs_background": "light"
     },
     "output_type": "display_data"
    }
   ],
   "source": [
    "x = np.linspace(0, 3, 200)\n",
    "y = 10*x - 14\n",
    "\n",
    "plt.plot(x, Q(x, y))\n",
    "plt.xlabel('x')\n",
    "plt.ylabel('y')\n",
    "plt.grid()\n",
    "\n",
    "plt.show()"
   ]
  },
  {
   "cell_type": "markdown",
   "id": "c8b12a95-e6f4-406f-84f4-90954d0f0758",
   "metadata": {},
   "source": [
    "Из графика видно, что ближайшее к нулевому вектору  \n",
    "решение будет при значении *х*, примерно равному 1.4.  \n",
    "Теперь найдём это решение численным методом:"
   ]
  },
  {
   "cell_type": "code",
   "execution_count": 19,
   "id": "a58061df-816c-4d3e-81a6-1b5ecf7532bd",
   "metadata": {},
   "outputs": [],
   "source": [
    "A = np.array([[1, 2, -1],\n",
    "              [8, -5, 2]])\n",
    "B = np.array([1, 12])"
   ]
  },
  {
   "cell_type": "code",
   "execution_count": 20,
   "id": "d15efd76-10bd-4c11-b75b-0a941c2ba9a8",
   "metadata": {},
   "outputs": [
    {
     "data": {
      "text/plain": [
       "array([ 1.38191882, -0.18081181,  0.0202952 ])"
      ]
     },
     "execution_count": 20,
     "metadata": {},
     "output_type": "execute_result"
    }
   ],
   "source": [
    "np.linalg.lstsq(A, B, rcond=None)[0]"
   ]
  },
  {
   "cell_type": "markdown",
   "id": "39c03878-83ba-4e30-8a71-ccf12a32c3c7",
   "metadata": {},
   "source": [
    "Это и есть искомое нормальное псевдорешение."
   ]
  },
  {
   "cell_type": "markdown",
   "id": "bd2b3ef0-7919-43f2-83cf-1de9a0d7eaa4",
   "metadata": {},
   "source": [
    "#### Задание 6.  \n",
    "*Найдите одно из псевдорешений вырожденной системы:*  \n",
    "<br>\n",
    "<img src=\"https://latex.codecogs.com/gif.latex?\\begin{bmatrix}&space;1&space;&&space;2&space;&&space;3\\\\&space;4&space;&&space;5&space;&&space;6\\\\&space;7&space;&&space;8&space;&&space;9&space;\\end{bmatrix}&space;\\cdot&space;X&space;=&space;\\begin{bmatrix}2\\\\5\\\\11&space;\\end{bmatrix}\" title=\"\\begin{bmatrix} 1 & 2 & 3\\\\ 4 & 5 & 6\\\\ 7 & 8 & 9 \\end{bmatrix} \\cdot X = \\begin{bmatrix}2\\\\5\\\\11 \\end{bmatrix}\" />  \n",
    "<br>\n",
    "*Попробуйте также отыскать и нормальное псевдорешение.*"
   ]
  },
  {
   "cell_type": "code",
   "execution_count": 21,
   "id": "47daaa69-275c-4891-8ee5-3a9a98697d77",
   "metadata": {},
   "outputs": [],
   "source": [
    "A = np.array([[1, 2, 3],\n",
    "              [4, 5, 6],\n",
    "              [7, 8, 9]])\n",
    "B = np.array([2, 5, 11])"
   ]
  },
  {
   "cell_type": "code",
   "execution_count": 22,
   "id": "53069a5b-da06-4e03-813f-86bdcd7054c0",
   "metadata": {},
   "outputs": [
    {
     "name": "stdout",
     "output_type": "stream",
     "text": [
      "[[1 2 3]\n",
      " [4 5 6]\n",
      " [7 8 9]]\n",
      "[[-0.12309149  0.90453403  0.40824829]\n",
      " [-0.49236596  0.30151134 -0.81649658]\n",
      " [-0.86164044 -0.30151134  0.40824829]]\n",
      "[[-8.12403840e+00 -9.60113630e+00 -1.10782342e+01]\n",
      " [ 0.00000000e+00  9.04534034e-01  1.80906807e+00]\n",
      " [ 0.00000000e+00  0.00000000e+00 -8.88178420e-16]]\n"
     ]
    }
   ],
   "source": [
    "Q, R = np.linalg.qr(A)\n",
    "\n",
    "print(A)\n",
    "print(Q)\n",
    "print(R)"
   ]
  },
  {
   "cell_type": "code",
   "execution_count": 23,
   "id": "8e05deb8-ac09-4764-a645-76accf3f45cd",
   "metadata": {},
   "outputs": [
    {
     "data": {
      "text/plain": [
       "array([[-8.1240384 , -9.6011363 ],\n",
       "       [ 0.        ,  0.90453403]])"
      ]
     },
     "execution_count": 23,
     "metadata": {},
     "output_type": "execute_result"
    }
   ],
   "source": [
    "R1 = R[:2, :2]\n",
    "R1"
   ]
  },
  {
   "cell_type": "code",
   "execution_count": 24,
   "id": "895230fc-03a8-4154-a176-26263699aac9",
   "metadata": {},
   "outputs": [
    {
     "data": {
      "text/plain": [
       "array([-1.21860576e+01,  3.55271368e-15])"
      ]
     },
     "execution_count": 24,
     "metadata": {},
     "output_type": "execute_result"
    }
   ],
   "source": [
    "B1 = np.dot(Q.T, B)[:2]\n",
    "B1"
   ]
  },
  {
   "cell_type": "code",
   "execution_count": 25,
   "id": "c46c4c93-08ea-472b-9153-8ca3ab0dd847",
   "metadata": {},
   "outputs": [
    {
     "data": {
      "text/plain": [
       "array([1.50000000e+00, 3.92767275e-15])"
      ]
     },
     "execution_count": 25,
     "metadata": {},
     "output_type": "execute_result"
    }
   ],
   "source": [
    "X1 = np.linalg.solve(R1, B1)\n",
    "X1"
   ]
  },
  {
   "cell_type": "markdown",
   "id": "96454820-c510-486c-9fd2-7d73a6da776a",
   "metadata": {},
   "source": [
    "Одно из псевдорешений имеет вид:"
   ]
  },
  {
   "cell_type": "code",
   "execution_count": 26,
   "id": "dcb6e6ea-fe16-4153-aeca-823623aa2895",
   "metadata": {},
   "outputs": [
    {
     "name": "stdout",
     "output_type": "stream",
     "text": [
      "[1.50000000e+00 3.92767275e-15 0.00000000e+00]\n"
     ]
    }
   ],
   "source": [
    "X = np.append(X1, 0)\n",
    "print(X)"
   ]
  },
  {
   "cell_type": "markdown",
   "id": "469d7513-f5c8-42ae-ba52-c82a90e8d3e7",
   "metadata": {},
   "source": [
    "Его норма:"
   ]
  },
  {
   "cell_type": "code",
   "execution_count": 27,
   "id": "6595faf1-36ed-46d9-bad1-d9bcb23b88e5",
   "metadata": {},
   "outputs": [
    {
     "data": {
      "text/plain": [
       "1.499999999999996"
      ]
     },
     "execution_count": 27,
     "metadata": {},
     "output_type": "execute_result"
    }
   ],
   "source": [
    "np.linalg.norm(X)"
   ]
  },
  {
   "cell_type": "markdown",
   "id": "5f8f6f41-0832-4ddb-98fe-8a4559d3b819",
   "metadata": {},
   "source": [
    "Нормальное псевдорешение будет иметь вид:"
   ]
  },
  {
   "cell_type": "code",
   "execution_count": 28,
   "id": "cd412804-ad0d-4548-a496-e84ce32fbe64",
   "metadata": {},
   "outputs": [
    {
     "data": {
      "text/plain": [
       "array([ 1.25,  0.5 , -0.25])"
      ]
     },
     "execution_count": 28,
     "metadata": {},
     "output_type": "execute_result"
    }
   ],
   "source": [
    "X = np.linalg.lstsq(A, B, rcond=None)[0]\n",
    "X"
   ]
  },
  {
   "cell_type": "markdown",
   "id": "e3ff23b6-a946-4470-b944-b36ab04f1c23",
   "metadata": {},
   "source": [
    "Его норма:"
   ]
  },
  {
   "cell_type": "code",
   "execution_count": 29,
   "id": "44552950-23ba-4824-946c-cb5d08c0c985",
   "metadata": {},
   "outputs": [
    {
     "data": {
      "text/plain": [
       "1.3693063937629126"
      ]
     },
     "execution_count": 29,
     "metadata": {},
     "output_type": "execute_result"
    }
   ],
   "source": [
    "np.linalg.norm(X)"
   ]
  }
 ],
 "metadata": {
  "kernelspec": {
   "display_name": "Python 3 (ipykernel)",
   "language": "python",
   "name": "python3"
  },
  "language_info": {
   "codemirror_mode": {
    "name": "ipython",
    "version": 3
   },
   "file_extension": ".py",
   "mimetype": "text/x-python",
   "name": "python",
   "nbconvert_exporter": "python",
   "pygments_lexer": "ipython3",
   "version": "3.9.7"
  }
 },
 "nbformat": 4,
 "nbformat_minor": 5
}
